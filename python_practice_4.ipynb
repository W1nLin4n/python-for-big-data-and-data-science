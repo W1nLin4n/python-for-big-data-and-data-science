{
 "nbformat": 4,
 "nbformat_minor": 0,
 "metadata": {
  "colab": {
   "provenance": []
  },
  "kernelspec": {
   "name": "python3",
   "language": "python",
   "display_name": "Python 3 (ipykernel)"
  },
  "language_info": {
   "name": "python"
  }
 },
 "cells": [
  {
   "cell_type": "markdown",
   "source": [
    "# I. Functions. Arguments."
   ],
   "metadata": {
    "id": "kXpppdVm6wFy"
   }
  },
  {
   "cell_type": "markdown",
   "source": [
    "1. (5б) Назвіть основні 4 смислові  частини, з яких складається функція."
   ],
   "metadata": {
    "id": "u_krJdlbAkVz"
   }
  },
  {
   "cell_type": "markdown",
   "source": [
    "Назва, аргументи, тіло, повернення"
   ],
   "metadata": {
    "id": "KKTrTXmHAptb"
   }
  },
  {
   "cell_type": "markdown",
   "source": [
    "2. (3б) Визначте функцію, що приймає 2 аргументи та повертає результат ділення 1го аргумента на інший."
   ],
   "metadata": {
    "id": "ORM4PqJQAtDM"
   }
  },
  {
   "cell_type": "code",
   "execution_count": 55,
   "metadata": {
    "id": "EuDx-z8M6sLo",
    "ExecuteTime": {
     "end_time": "2024-03-10T16:39:14.460205100Z",
     "start_time": "2024-03-10T16:39:14.344535Z"
    }
   },
   "outputs": [],
   "source": [
    "def div(a, b):\n",
    "    return a / b"
   ]
  },
  {
   "cell_type": "markdown",
   "source": [
    "3. (2б) Викличте вище визначену функцію, де другий аргумент дорівнює 0."
   ],
   "metadata": {
    "id": "5joQGQ-SAyMe"
   }
  },
  {
   "cell_type": "code",
   "source": [
    "print(div(1, 0))"
   ],
   "metadata": {
    "id": "V5cBV1LOA3d-",
    "ExecuteTime": {
     "end_time": "2024-03-10T16:39:14.496119400Z",
     "start_time": "2024-03-10T16:39:14.360977Z"
    }
   },
   "execution_count": 56,
   "outputs": [
    {
     "ename": "ZeroDivisionError",
     "evalue": "division by zero",
     "output_type": "error",
     "traceback": [
      "\u001B[1;31m---------------------------------------------------------------------------\u001B[0m",
      "\u001B[1;31mZeroDivisionError\u001B[0m                         Traceback (most recent call last)",
      "Cell \u001B[1;32mIn[56], line 1\u001B[0m\n\u001B[1;32m----> 1\u001B[0m \u001B[38;5;28mprint\u001B[39m(\u001B[43mdiv\u001B[49m\u001B[43m(\u001B[49m\u001B[38;5;241;43m1\u001B[39;49m\u001B[43m,\u001B[49m\u001B[43m \u001B[49m\u001B[38;5;241;43m0\u001B[39;49m\u001B[43m)\u001B[49m)\n",
      "Cell \u001B[1;32mIn[55], line 2\u001B[0m, in \u001B[0;36mdiv\u001B[1;34m(a, b)\u001B[0m\n\u001B[0;32m      1\u001B[0m \u001B[38;5;28;01mdef\u001B[39;00m \u001B[38;5;21mdiv\u001B[39m(a, b):\n\u001B[1;32m----> 2\u001B[0m     \u001B[38;5;28;01mreturn\u001B[39;00m \u001B[43ma\u001B[49m\u001B[43m \u001B[49m\u001B[38;5;241;43m/\u001B[39;49m\u001B[43m \u001B[49m\u001B[43mb\u001B[49m\n",
      "\u001B[1;31mZeroDivisionError\u001B[0m: division by zero"
     ]
    }
   ]
  },
  {
   "cell_type": "markdown",
   "source": [
    "4. (4б) Перевизначте функцію так, щоби у випадку ділення на 0 функція повертала None, а в решті випадків - результат розрахунків."
   ],
   "metadata": {
    "id": "QyimWgW8A43-"
   }
  },
  {
   "cell_type": "code",
   "source": [
    "def div(a, b):\n",
    "    return None if b == 0 else a / b\n",
    "\n",
    "print(div(1, 0))"
   ],
   "metadata": {
    "id": "7VIODtSjA8Ek",
    "ExecuteTime": {
     "start_time": "2024-03-10T16:39:14.372556800Z"
    }
   },
   "execution_count": null,
   "outputs": []
  },
  {
   "cell_type": "markdown",
   "source": [
    "5. (5б) Визначте функцію, що віднімає одне число від іншого (підказка: це буде 2 аргументи функції). При чому, якщо не визначити, скільки саме має бути віднято від числа, за замовчуванням має відніматися 1. Викличте функцію, передаючи тільки один аргумент."
   ],
   "metadata": {
    "id": "Y8mN0GfkA81l"
   }
  },
  {
   "cell_type": "code",
   "source": [
    "def subtract(a, b=1):\n",
    "    return a - b\n",
    "\n",
    "print(subtract(3))"
   ],
   "metadata": {
    "id": "vg1kxkdgBA50",
    "ExecuteTime": {
     "end_time": "2024-03-10T16:39:14.498144900Z",
     "start_time": "2024-03-10T16:39:14.380560500Z"
    }
   },
   "execution_count": 57,
   "outputs": [
    {
     "name": "stdout",
     "output_type": "stream",
     "text": [
      "2\n"
     ]
    }
   ]
  },
  {
   "cell_type": "markdown",
   "source": [
    "6. (7б) Визначте функцію, яка приймає iterable (ітерабельний обʼєкт, напр. список), що складається з 7ми рядкових значень - назв погодних умов (напр. \"sunny\") за кожен день у тижні. Повертає функція словник, де ключами є рядки з погодними умовами, а значеннями - кількість разів, скільки дана погода була протягом тижня (напр. {'sunny': 1, ...}). Викличте цю функцію та виведіть результат її роботи на екран."
   ],
   "metadata": {
    "id": "D3mwQGNOBBs4"
   }
  },
  {
   "cell_type": "code",
   "source": [
    "from typing import Iterable\n",
    "\n",
    "def weather_cnt(weather_on_days: Iterable[str]) -> dict[str, int]:\n",
    "    weather_counts = {}\n",
    "    for weather in weather_on_days:\n",
    "        if weather in weather_counts:\n",
    "            weather_counts[weather] += 1\n",
    "        else:\n",
    "            weather_counts[weather] = 1\n",
    "    return weather_counts\n",
    "\n",
    "print(weather_cnt([\"sunny\", \"sunny\", \"rainy\", \"foggy\", \"sunny\", \"rainy\", \"rainy\"]))"
   ],
   "metadata": {
    "id": "OsWm-hKcBFyn",
    "ExecuteTime": {
     "end_time": "2024-03-10T16:39:14.499148600Z",
     "start_time": "2024-03-10T16:39:14.385272900Z"
    }
   },
   "execution_count": 58,
   "outputs": [
    {
     "name": "stdout",
     "output_type": "stream",
     "text": [
      "{'sunny': 3, 'rainy': 3, 'foggy': 1}\n"
     ]
    }
   ]
  },
  {
   "cell_type": "markdown",
   "source": [
    "7. (15б) Напишіть програму, яка б шукала необхідне число у впорядкованому списку цілочислених значень, де\n",
    "число має вводитись з консолі.\n",
    "власне алгоритм пошуку винесений в окрему функцію, яка повертає булеве значення (знайдено число - True, не знайдено - False).\n",
    "в залежності від результату функції, виведіть на екран повідомлення про успішний або ж неуспішний пошук.\n",
    "Зауваження: використовувати оператор in заборонено."
   ],
   "metadata": {
    "id": "RMiCcdOsBKQT"
   }
  },
  {
   "cell_type": "code",
   "source": [
    "def binary_search(ordered_vals: list[int], target: int) -> bool:\n",
    "    l = 0\n",
    "    r = len(ordered_vals)\n",
    "    while l < r:\n",
    "        if ordered_vals[(l + r) // 2] > target:\n",
    "            r = (l + r) // 2\n",
    "        elif ordered_vals[(l + r) // 2] < target:\n",
    "            l = (l + r) // 2 + 1\n",
    "        else:\n",
    "            break\n",
    "    return l < r\n",
    "\n",
    "ordered_arr = [1, 4, 9, 15, 30, 96]\n",
    "print(\"It is in array\" if binary_search(ordered_arr, int(input(\"Check number: \"))) else \"It is not in array\")"
   ],
   "metadata": {
    "id": "UNCZg65OBOy-",
    "ExecuteTime": {
     "end_time": "2024-03-10T16:39:20.340417200Z",
     "start_time": "2024-03-10T16:39:14.392028600Z"
    }
   },
   "execution_count": 59,
   "outputs": [
    {
     "name": "stdout",
     "output_type": "stream",
     "text": [
      "It is not in array\n"
     ]
    }
   ]
  },
  {
   "cell_type": "markdown",
   "source": [
    "# II. Lambda functions."
   ],
   "metadata": {
    "id": "Ae1n_OvLBTsy"
   }
  },
  {
   "cell_type": "markdown",
   "source": [
    "8. (4б) В яких випадках варто використовувати лямбда-функції?"
   ],
   "metadata": {
    "id": "xaD_wSlaCWen"
   }
  },
  {
   "cell_type": "markdown",
   "source": [
    "У тих випадках, коли функція проста, і її можна вмістити у один вираз, або коли необхідно передати функцію як параметр(але в інших місцях вона не використовується)"
   ],
   "metadata": {
    "id": "42MB6OoLCakR"
   }
  },
  {
   "cell_type": "markdown",
   "source": [
    "9. (9б) Визначте список з рядками. Після цього визначте анонімну функцію для отримання першого символу у верхньому регістрі для кожного рядка списку.\n",
    "Підказка: використовуйте анонімну функцію в якості агрумента до вбудованої ф-ції, яка створена для застосування функцій над iterable обʼєктами. Результат виведіть на екран у вигляді кортежу."
   ],
   "metadata": {
    "id": "USrzrk7GCedk"
   }
  },
  {
   "cell_type": "code",
   "source": [
    "a = [\"Hello\", \"my\", \"name\", \"is\", \"Artem\"]\n",
    "print(tuple(map(lambda x: x[0].upper(), a)))"
   ],
   "metadata": {
    "id": "M8QWUsMlCjWH",
    "ExecuteTime": {
     "end_time": "2024-03-10T16:39:20.340417200Z",
     "start_time": "2024-03-10T16:39:20.257129400Z"
    }
   },
   "execution_count": 60,
   "outputs": [
    {
     "name": "stdout",
     "output_type": "stream",
     "text": [
      "('H', 'M', 'N', 'I', 'A')\n"
     ]
    }
   ]
  },
  {
   "cell_type": "markdown",
   "source": [
    "10. (10б) Визначте список з числовими значеннями (і цілими, і з рухомою комою). а) Відфільтруйте всі числа, які діляться націло на 3 за допомогою вбудованої функції та анонімної функції в якості аргумента). Збережіть результат у змінній, не приводяти явно до будь-якого типу. б) Використовуючи результат на кроці 12.а у якості аргументу, та за допомогою лямбда-функції в якості іншого аргументу до вбудованої функції, додайте до кожного елементу число 1 та опісля зведіть у квадрат. Остаточний результат приведіть явно до списку та виведіть на екран."
   ],
   "metadata": {
    "id": "9fyUhXOoCtGp"
   }
  },
  {
   "cell_type": "code",
   "source": [
    "a = [1, 3.5, 7.9, 5, 17.8, 23, 6, 0, 9.7]\n",
    "b = filter(lambda x: x % 3 == 0, a)\n",
    "print(list(map(lambda x: (x + 1) ** 2, b)))"
   ],
   "metadata": {
    "id": "exEx2_okCsql",
    "ExecuteTime": {
     "end_time": "2024-03-10T16:39:20.341417300Z",
     "start_time": "2024-03-10T16:39:20.262089200Z"
    }
   },
   "execution_count": 61,
   "outputs": [
    {
     "name": "stdout",
     "output_type": "stream",
     "text": [
      "[49, 1]\n"
     ]
    }
   ]
  },
  {
   "cell_type": "markdown",
   "source": [
    "# III. Decorators."
   ],
   "metadata": {
    "id": "o_x8cG_WC7jp"
   }
  },
  {
   "cell_type": "markdown",
   "source": [
    "11. (11б) Визначте декоратор, який би виводив у консоль повідомлення про початок роботи і назву функції (напр. my_function._ _ name _ _), а після відпрацювання функції - повідомлення про закінчення роботи і назву функції, що задекорована."
   ],
   "metadata": {
    "id": "mhxS4-mfC8LQ"
   }
  },
  {
   "cell_type": "code",
   "source": [
    "def run_controller(func):\n",
    "    def wrapper(*args, **kwargs):\n",
    "        print(f\"Function {func.__name__} started\")\n",
    "        res = func(*args, **kwargs)\n",
    "        print(f\"Function {func.__name__} finished\")\n",
    "        return res\n",
    "    return wrapper"
   ],
   "metadata": {
    "id": "srd1ygWjDGhO",
    "ExecuteTime": {
     "end_time": "2024-03-10T16:39:20.341417300Z",
     "start_time": "2024-03-10T16:39:20.274343100Z"
    }
   },
   "execution_count": 62,
   "outputs": []
  },
  {
   "cell_type": "markdown",
   "source": [
    "12. (4б) Задекоруйте двома різними способами функції з завдання 4 та 5 декоратором із завдання 11. (**УВАГА**: не декоруйте функції двічі!)."
   ],
   "metadata": {
    "id": "rxGZwVBiDph3"
   }
  },
  {
   "cell_type": "code",
   "source": [
    "@run_controller\n",
    "def div_decorated(a, b):\n",
    "    return None if b == 0 else a / b\n",
    "\n",
    "def subtract_decorated(a, b=1):\n",
    "    return a - b\n",
    "\n",
    "subtract_decorated = run_controller(subtract_decorated)"
   ],
   "metadata": {
    "id": "06lj7eq_DwZe",
    "ExecuteTime": {
     "end_time": "2024-03-10T16:39:20.341417300Z",
     "start_time": "2024-03-10T16:39:20.278678900Z"
    }
   },
   "execution_count": 63,
   "outputs": []
  },
  {
   "cell_type": "markdown",
   "source": [
    "13. (2б) Викличте одну з задекорованих функцій і виведіть її результат на екран."
   ],
   "metadata": {
    "id": "P0ep1urBDzf-"
   }
  },
  {
   "cell_type": "code",
   "source": [
    "print(div_decorated(1, 0))\n",
    "print(subtract_decorated(1))"
   ],
   "metadata": {
    "id": "1QvTw0ctD0S3",
    "ExecuteTime": {
     "end_time": "2024-03-10T16:39:20.341417300Z",
     "start_time": "2024-03-10T16:39:20.285347200Z"
    }
   },
   "execution_count": 64,
   "outputs": [
    {
     "name": "stdout",
     "output_type": "stream",
     "text": [
      "Function div_decorated started\n",
      "Function div_decorated finished\n",
      "None\n",
      "Function subtract_decorated started\n",
      "Function subtract_decorated finished\n",
      "0\n"
     ]
    }
   ]
  },
  {
   "cell_type": "markdown",
   "source": [
    "# IV. Recursion."
   ],
   "metadata": {
    "id": "poECCpuoD2S9"
   }
  },
  {
   "cell_type": "markdown",
   "source": [
    "14. (4б) Назвіть дві частини функції, які є обовʼязковими для того, щоб називати її рекурсивною."
   ],
   "metadata": {
    "id": "DqkURfdsD7MY"
   }
  },
  {
   "cell_type": "markdown",
   "source": [
    "Умова зупинки та рекурсивний виклик"
   ],
   "metadata": {
    "id": "HYW6ttIeIQIU"
   }
  },
  {
   "cell_type": "markdown",
   "source": [
    "15. (15б) Визначте функцію, яка рекурсивно реалізовує пошук числа у послідовності Фібоначчі за її індексом (нумерація починається з нуля). Наприклад, потрібно знайти перше число у послідовності, тоді функція прийматиме 0 у якості аргумента і повертатиме 1, якщо ж знаходити третє число (індекс 2) послідовності, то функція повертатиме 2, якщо ж знаходити десяте число (індекс 9), то функція повертатиме 55."
   ],
   "metadata": {
    "id": "WYVt20UmEA35"
   }
  },
  {
   "cell_type": "code",
   "source": [
    "def fibonacci(id):\n",
    "    return 1 if id < 2 else fibonacci(id - 1) + fibonacci(id - 2)\n",
    "\n",
    "print(fibonacci(9))"
   ],
   "metadata": {
    "id": "xIMhp05AIpV_",
    "ExecuteTime": {
     "end_time": "2024-03-10T16:39:20.342418400Z",
     "start_time": "2024-03-10T16:39:20.289723800Z"
    }
   },
   "execution_count": 65,
   "outputs": [
    {
     "name": "stdout",
     "output_type": "stream",
     "text": [
      "55\n"
     ]
    }
   ]
  },
  {
   "cell_type": "markdown",
   "source": [
    "# Вітаю! Ви велика(ий) молодець, що впоралась(вся). Похваліть себе та побалуйте чимось приємним. Я Вами пишаюся."
   ],
   "metadata": {
    "id": "ytXC8n_4Ip0W"
   }
  }
 ]
}
