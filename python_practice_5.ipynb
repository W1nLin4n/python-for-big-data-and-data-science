{
 "nbformat": 4,
 "nbformat_minor": 0,
 "metadata": {
  "colab": {
   "provenance": []
  },
  "kernelspec": {
   "name": "python3",
   "language": "python",
   "display_name": "Python 3 (ipykernel)"
  },
  "language_info": {
   "name": "python"
  }
 },
 "cells": [
  {
   "cell_type": "markdown",
   "source": [
    "# I. OOP"
   ],
   "metadata": {
    "id": "5qV_sehzFCTp"
   }
  },
  {
   "cell_type": "markdown",
   "source": [
    "1. (6б). Створіть клас Animal, додайте три атрибути, один з яких має значення за замовчуванням та два методи на свій розсуд."
   ],
   "metadata": {
    "id": "tx_U_hOALyfg"
   }
  },
  {
   "cell_type": "code",
   "source": [
    "class Animal:\n",
    "    def __init__(self, name, weight, age=0):\n",
    "        self.name = name\n",
    "        self.weight = weight\n",
    "        self.age = age\n",
    "    \n",
    "    def birthday(self):\n",
    "        self.age += 1\n",
    "        return self.age\n",
    "    \n",
    "    def feed(self, food):\n",
    "        self.weight += food.weight\n",
    "        return self.weight"
   ],
   "metadata": {
    "id": "-Vf895KaL88N",
    "ExecuteTime": {
     "end_time": "2024-03-10T17:11:38.945460100Z",
     "start_time": "2024-03-10T17:11:38.937567400Z"
    }
   },
   "execution_count": 3,
   "outputs": []
  },
  {
   "cell_type": "markdown",
   "source": [
    "2. (2б). Створіть два обʼєкти цього класу, де один з обʼєктів створюється із дефолтним значенням атрибуту. На одному обʼєкті отримайте значення його атрибуту, а на іншому викличте один з його методів."
   ],
   "metadata": {
    "id": "X_UlOMB0L93w"
   }
  },
  {
   "cell_type": "code",
   "source": [
    "a = Animal(\"Crocodile\", 500, 20)\n",
    "b = Animal(\"Chicken\", 0.5)\n",
    "\n",
    "print(b.age)\n",
    "print(a.feed(b))"
   ],
   "metadata": {
    "id": "7gBu0ESOMCpG",
    "ExecuteTime": {
     "end_time": "2024-03-10T17:13:19.418188600Z",
     "start_time": "2024-03-10T17:13:19.409861Z"
    }
   },
   "execution_count": 4,
   "outputs": [
    {
     "name": "stdout",
     "output_type": "stream",
     "text": [
      "0\n",
      "500.5\n"
     ]
    }
   ]
  },
  {
   "cell_type": "markdown",
   "source": [
    "3. (5б). Створіть клас, де атрибути мають різні рівні доступу. Спробуйте отримати їхні значення та опишіть результати."
   ],
   "metadata": {
    "id": "HoqSCZt1MHn5"
   }
  },
  {
   "cell_type": "code",
   "source": [
    "class Paint:\n",
    "    def __init__(self, color, viscosity):\n",
    "        self.color = color\n",
    "        self.__viscosity = 1.23\n",
    "        \n",
    "a = Paint(\"black\", 1.23)\n",
    "b = Paint(\"red\", 1.45)\n",
    "\n",
    "print(a.color)\n",
    "print(b.color)\n",
    "print(a.__viscosity)\n",
    "print(b.__viscosity)"
   ],
   "metadata": {
    "id": "r9b3vJxBMSPV",
    "ExecuteTime": {
     "end_time": "2024-03-10T17:39:04.671072400Z",
     "start_time": "2024-03-10T17:39:04.511710600Z"
    }
   },
   "execution_count": 11,
   "outputs": [
    {
     "name": "stdout",
     "output_type": "stream",
     "text": [
      "black\n",
      "red\n"
     ]
    },
    {
     "ename": "AttributeError",
     "evalue": "'Paint' object has no attribute '__viscosity'",
     "output_type": "error",
     "traceback": [
      "\u001B[1;31m---------------------------------------------------------------------------\u001B[0m",
      "\u001B[1;31mAttributeError\u001B[0m                            Traceback (most recent call last)",
      "Cell \u001B[1;32mIn[11], line 11\u001B[0m\n\u001B[0;32m      9\u001B[0m \u001B[38;5;28mprint\u001B[39m(a\u001B[38;5;241m.\u001B[39mcolor)\n\u001B[0;32m     10\u001B[0m \u001B[38;5;28mprint\u001B[39m(b\u001B[38;5;241m.\u001B[39mcolor)\n\u001B[1;32m---> 11\u001B[0m \u001B[38;5;28mprint\u001B[39m(\u001B[43ma\u001B[49m\u001B[38;5;241;43m.\u001B[39;49m\u001B[43m__viscosity\u001B[49m)\n\u001B[0;32m     12\u001B[0m \u001B[38;5;28mprint\u001B[39m(b\u001B[38;5;241m.\u001B[39m__viscosity)\n",
      "\u001B[1;31mAttributeError\u001B[0m: 'Paint' object has no attribute '__viscosity'"
     ]
    }
   ]
  },
  {
   "cell_type": "markdown",
   "source": [
    "4. (7б). Як ви розумієте термін self? Для чого використовується метод __init __?"
   ],
   "metadata": {
    "id": "5op2m2vgMSkZ"
   }
  },
  {
   "cell_type": "markdown",
   "source": [
    "self це звернення до об'єкту, створеного з класу. __ init __ це метод-конструктор, який викликається при створенні об'єкту класу."
   ],
   "metadata": {
    "id": "DyiPqNRvMasx"
   }
  },
  {
   "cell_type": "markdown",
   "source": [
    "5. (9б). Створіть клас Фігура без атрибутів, з методом get_area для отримання площі фігури, що повертає 0 та __add __, який приймає self та other в якості аргументів, а повертає суму площин фігур self та other."
   ],
   "metadata": {
    "id": "-6X8EGfjMd2y"
   }
  },
  {
   "cell_type": "code",
   "source": [
    "class Figure:\n",
    "    def get_area(self):\n",
    "        return 0\n",
    "    \n",
    "    def __add__(self, other):\n",
    "        return self.get_area() + other.get_area()"
   ],
   "metadata": {
    "id": "4rvO_wYUMaEr",
    "ExecuteTime": {
     "end_time": "2024-03-10T17:24:48.620525Z",
     "start_time": "2024-03-10T17:24:48.613102900Z"
    }
   },
   "execution_count": 8,
   "outputs": []
  },
  {
   "cell_type": "markdown",
   "source": [
    "6. (11б). Створіть 2 дочірніх класи від Фігури: Трикутник та Коло, які мають атрибути, необхідні для розрахунку площин. Визначте метод get_area в кожному з них так, щоби вони розраховували площу в залежності від формули для кожного типу фігури. Створіть обʼєкт класу Трикутник та обʼєкт класу Коло. Виконайте операцію суми за допомогою оператора + між ними."
   ],
   "metadata": {
    "id": "SFcKnnv5Mo_z"
   }
  },
  {
   "cell_type": "code",
   "source": [
    "from math import pi\n",
    "\n",
    "class Triangle(Figure):\n",
    "    def __init__(self, a, b, c):\n",
    "        self.a = a\n",
    "        self.b = b\n",
    "        self.c = c\n",
    "    \n",
    "    def get_area(self):\n",
    "        p = (self.a + self.b + self.c) / 2\n",
    "        return (p * (p - self.a) * (p - self.b) * (p - self.c)) ** 0.5\n",
    "    \n",
    "class Circle(Figure):\n",
    "    def __init__(self, r):\n",
    "        self.r = r\n",
    "    \n",
    "    def get_area(self):\n",
    "        return pi * (self.r ** 2)\n",
    "    \n",
    "a = Triangle(3, 4, 5)\n",
    "b = Circle(3)\n",
    "\n",
    "print(a + b)"
   ],
   "metadata": {
    "id": "H3GVNr69Muf3",
    "ExecuteTime": {
     "end_time": "2024-03-10T17:31:13.585076200Z",
     "start_time": "2024-03-10T17:31:13.575449200Z"
    }
   },
   "execution_count": 9,
   "outputs": [
    {
     "name": "stdout",
     "output_type": "stream",
     "text": [
      "34.27433388230814\n"
     ]
    }
   ]
  },
  {
   "cell_type": "markdown",
   "source": [
    "7. (3б). Продемонструйте різницю між isinstance та issubclass."
   ],
   "metadata": {
    "id": "HCvR206YMvLK"
   }
  },
  {
   "cell_type": "code",
   "source": [
    "print(isinstance(a, Figure))\n",
    "print(issubclass(Triangle, Figure))"
   ],
   "metadata": {
    "id": "L_V1bBvDM0GN",
    "ExecuteTime": {
     "end_time": "2024-03-10T17:34:52.071070700Z",
     "start_time": "2024-03-10T17:34:52.062823700Z"
    }
   },
   "execution_count": 10,
   "outputs": [
    {
     "name": "stdout",
     "output_type": "stream",
     "text": [
      "True\n",
      "True\n"
     ]
    }
   ]
  },
  {
   "cell_type": "markdown",
   "source": [
    "8. (13б). Створіть клас BankAccount з приватними атрибутами balance та account_number. Реалізуйте методи поповнення та зняття коштів, забезпечивши належну інкапсуляцію. Підказка: використовуйте декоратори property та setter."
   ],
   "metadata": {
    "id": "jjsaBZ-iM0Qq"
   }
  },
  {
   "cell_type": "code",
   "source": [
    "class BankAccount:\n",
    "    __bank_account_id = 0\n",
    "    \n",
    "    def __init__(self):\n",
    "        self.__account_number = BankAccount.__bank_account_id\n",
    "        BankAccount.__bank_account_id += 1\n",
    "        self.__balance = 0\n",
    "    \n",
    "    @property\n",
    "    def account_number(self):\n",
    "        return self.__account_number\n",
    "    \n",
    "    @property\n",
    "    def balance(self):\n",
    "        return self.__balance\n",
    "    \n",
    "    def deposit(self, val):\n",
    "        if val < 0:\n",
    "            raise Exception(\"Cannot deposit negative amount of money\")\n",
    "        else:\n",
    "            self.__balance += val\n",
    "        return self.balance\n",
    "    \n",
    "    def withdraw(self, val):\n",
    "        if val < 0:\n",
    "            raise Exception(\"Cannot withdraw negative amount of money\")\n",
    "        elif val > self.balance:\n",
    "            raise Exception(\"Not enough money on account\")\n",
    "        else:\n",
    "            self.__balance -= val\n",
    "        return self.balance\n",
    "\n",
    "a = BankAccount()\n",
    "print(f\"Account number: {a.account_number}, balance: {a.balance}\")\n",
    "print(a.deposit(200))\n",
    "print(a.withdraw(100))"
   ],
   "metadata": {
    "id": "xCvZ7lh8M7YA",
    "ExecuteTime": {
     "end_time": "2024-03-10T19:29:30.720040800Z",
     "start_time": "2024-03-10T19:29:30.643193700Z"
    }
   },
   "execution_count": 16,
   "outputs": [
    {
     "name": "stdout",
     "output_type": "stream",
     "text": [
      "Account number: 0, balance: 0\n",
      "200\n",
      "100\n"
     ]
    }
   ]
  },
  {
   "cell_type": "markdown",
   "source": [
    "9. (11б). Створіть клас Library, який містить список об'єктів типу Book. Реалізуйте методи для додавання книги, видалення книги та відображення списку книг."
   ],
   "metadata": {
    "id": "tIzL2SJTM8ft"
   }
  },
  {
   "cell_type": "code",
   "source": [
    "class Book:\n",
    "    def __init__(self, name):\n",
    "        self.__name = name\n",
    "        \n",
    "    @property\n",
    "    def name(self):\n",
    "        return self.__name\n",
    "\n",
    "class Library:\n",
    "    def __init__(self):\n",
    "        self.__book_list = []\n",
    "    \n",
    "    @property\n",
    "    def book_list(self):\n",
    "        return self.__book_list\n",
    "    \n",
    "    def add_book(self, book):\n",
    "        if book in self.book_list:\n",
    "            raise Exception(\"The book is already in the library\")\n",
    "        else:\n",
    "            self.__book_list.append(book)\n",
    "        return self.book_list\n",
    "    \n",
    "    def remove_book(self, book):\n",
    "        if book not in self.book_list:\n",
    "            raise Exception(\"There is no such book in the library\")\n",
    "        else:\n",
    "            self.__book_list.remove(book)\n",
    "        return self.book_list\n",
    "\n",
    "a = Book(\"Bible\")\n",
    "b = Book(\"Quran\")\n",
    "c = Book(\"Torah\")\n",
    "\n",
    "lib = Library()\n",
    "lib.add_book(a)\n",
    "lib.add_book(b)\n",
    "lib.add_book(c)\n",
    "print([book.name for book in lib.book_list])\n",
    "lib.remove_book(b)\n",
    "print([book.name for book in lib.book_list])"
   ],
   "metadata": {
    "id": "HWxfJKLtNAUZ",
    "ExecuteTime": {
     "end_time": "2024-03-10T19:33:50.325688Z",
     "start_time": "2024-03-10T19:33:50.256314900Z"
    }
   },
   "execution_count": 17,
   "outputs": [
    {
     "name": "stdout",
     "output_type": "stream",
     "text": [
      "['Bible', 'Quran', 'Torah']\n",
      "['Bible', 'Torah']\n"
     ]
    }
   ]
  },
  {
   "cell_type": "markdown",
   "source": [
    "10. (13б). Створіть клас Person з атрибутами name та age. Створіть ще один клас Employee з такими атрибутами, як department та salary. Створіть клас Manager, який успадковує обидва класи Person та Employee. Продемонструйте використання множинної спадковості, створивши обʼєкт класу Manager та отримавши mro для цього класу."
   ],
   "metadata": {
    "id": "lmV8pAwwNIqu"
   }
  },
  {
   "cell_type": "code",
   "source": [
    "class Person:\n",
    "    def __init__(self, name, age, *args, **kwargs):\n",
    "        super().__init__(**kwargs)\n",
    "        self._name = name\n",
    "        self._age = age\n",
    "       \n",
    "    @property \n",
    "    def name(self):\n",
    "        return self._name\n",
    "    \n",
    "    @property\n",
    "    def age(self):\n",
    "        return self._age\n",
    "\n",
    "class Employee:\n",
    "    def __init__(self, department, salary, *args, **kwargs):\n",
    "        super().__init__(**kwargs)\n",
    "        self._department = department\n",
    "        self._salary = salary\n",
    "       \n",
    "    @property \n",
    "    def department(self):\n",
    "        return self._department\n",
    "    \n",
    "    @property\n",
    "    def salary(self):\n",
    "        return self._salary\n",
    "    \n",
    "class Manager(Person, Employee):\n",
    "    def __init__(self, name, age, department, salary, *args, **kwargs):\n",
    "        super().__init__(name=name, age=age, department=department, salary=salary)\n",
    "\n",
    "a = Manager(\"Peter\", 25, \"HR\", 2500)\n",
    "print(a.name, a.age, a.department, a.salary)\n",
    "print(a.__class__.__mro__)"
   ],
   "metadata": {
    "id": "R49grKlWNPeN",
    "ExecuteTime": {
     "end_time": "2024-03-10T20:27:53.047732900Z",
     "start_time": "2024-03-10T20:27:52.962664300Z"
    }
   },
   "execution_count": 33,
   "outputs": [
    {
     "name": "stdout",
     "output_type": "stream",
     "text": [
      "Peter 25 HR 2500\n",
      "(<class '__main__.Manager'>, <class '__main__.Person'>, <class '__main__.Employee'>, <class 'object'>)\n"
     ]
    }
   ]
  },
  {
   "cell_type": "markdown",
   "source": [
    "# II. Iterator"
   ],
   "metadata": {
    "id": "dIJyUiNBFG8G"
   }
  },
  {
   "cell_type": "markdown",
   "source": [
    "11. (4б). Визначте рядок(str) з 4ма різними за значенням символами. Створіть ітератор на основі цього рядка. Викличте 5 разів функцію next на ітераторі, 4ри перших з них огорніть у ф-цію print()."
   ],
   "metadata": {
    "id": "13vsm0NyKIzL"
   }
  },
  {
   "cell_type": "code",
   "source": [
    "word = \"word\"\n",
    "letters = iter(word)\n",
    "print(next(letters))\n",
    "print(next(letters))\n",
    "print(next(letters))\n",
    "print(next(letters))\n",
    "next(letters)"
   ],
   "metadata": {
    "id": "81ntabAkKuz-",
    "ExecuteTime": {
     "end_time": "2024-03-10T20:28:51.279034200Z",
     "start_time": "2024-03-10T20:28:51.143677300Z"
    }
   },
   "execution_count": 34,
   "outputs": [
    {
     "name": "stdout",
     "output_type": "stream",
     "text": [
      "w\n",
      "o\n",
      "r\n",
      "d\n"
     ]
    },
    {
     "ename": "StopIteration",
     "evalue": "",
     "output_type": "error",
     "traceback": [
      "\u001B[1;31m---------------------------------------------------------------------------\u001B[0m",
      "\u001B[1;31mStopIteration\u001B[0m                             Traceback (most recent call last)",
      "Cell \u001B[1;32mIn[34], line 7\u001B[0m\n\u001B[0;32m      5\u001B[0m \u001B[38;5;28mprint\u001B[39m(\u001B[38;5;28mnext\u001B[39m(letters))\n\u001B[0;32m      6\u001B[0m \u001B[38;5;28mprint\u001B[39m(\u001B[38;5;28mnext\u001B[39m(letters))\n\u001B[1;32m----> 7\u001B[0m \u001B[38;5;28;43mnext\u001B[39;49m\u001B[43m(\u001B[49m\u001B[43mletters\u001B[49m\u001B[43m)\u001B[49m\n",
      "\u001B[1;31mStopIteration\u001B[0m: "
     ]
    }
   ]
  },
  {
   "cell_type": "markdown",
   "source": [
    "А що якщо викликати цю ж функцію на рядку?"
   ],
   "metadata": {
    "id": "aekWHGXOLRsO"
   }
  },
  {
   "cell_type": "code",
   "source": [
    "next(word)"
   ],
   "metadata": {
    "id": "mxATGsErLV1i",
    "ExecuteTime": {
     "end_time": "2024-03-10T20:29:04.055101700Z",
     "start_time": "2024-03-10T20:29:03.862077300Z"
    }
   },
   "execution_count": 35,
   "outputs": [
    {
     "ename": "TypeError",
     "evalue": "'str' object is not an iterator",
     "output_type": "error",
     "traceback": [
      "\u001B[1;31m---------------------------------------------------------------------------\u001B[0m",
      "\u001B[1;31mTypeError\u001B[0m                                 Traceback (most recent call last)",
      "Cell \u001B[1;32mIn[35], line 1\u001B[0m\n\u001B[1;32m----> 1\u001B[0m \u001B[38;5;28;43mnext\u001B[39;49m\u001B[43m(\u001B[49m\u001B[43mword\u001B[49m\u001B[43m)\u001B[49m\n",
      "\u001B[1;31mTypeError\u001B[0m: 'str' object is not an iterator"
     ]
    }
   ]
  },
  {
   "cell_type": "markdown",
   "source": [
    " 12. (5б). Опишіть своїми словами в одному реченні, як ви розумієте різницю між ітерабельними обʼєктами та ітераторами (можна на прикладі)."
   ],
   "metadata": {
    "id": "XwtMEopwJ4pH"
   }
  },
  {
   "cell_type": "markdown",
   "source": [
    "Ітерабельний об'єкт - об'єкт, що складається з кількох окремих частин, по яких можна пройтися в певному порядку\n",
    "Ітератор - об'єкт, який послідовно видає елементи в певному порядку"
   ],
   "metadata": {
    "id": "-sHrODc3KFn8"
   }
  },
  {
   "cell_type": "markdown",
   "source": [
    "13. (11б). Створіть клас, що має визначений Iterator Protocol та при кожному виклику next повертає літери англійської абетки, поки вони не вичерпаються."
   ],
   "metadata": {
    "id": "E9qJWmNbK8Gl"
   }
  },
  {
   "cell_type": "code",
   "source": [
    "class Alphabet:\n",
    "    def __init__(self):\n",
    "        self.__alphabet = \"abcdefghijklmnopqrstuvwxyz\"\n",
    "        \n",
    "    def __iter__(self):\n",
    "        return self\n",
    "    \n",
    "    def __next__(self):\n",
    "        if len(self.__alphabet) == 0:\n",
    "            raise StopIteration()\n",
    "        symbol = self.__alphabet[0]\n",
    "        self.__alphabet = self.__alphabet[1:]\n",
    "        return symbol\n",
    "    \n",
    "a = Alphabet()\n",
    "print(next(a))\n",
    "print(next(a))\n",
    "print(next(a))\n",
    "print(next(a))"
   ],
   "metadata": {
    "id": "cqx-g_RsLo6I",
    "ExecuteTime": {
     "end_time": "2024-03-10T20:41:43.707889500Z",
     "start_time": "2024-03-10T20:41:43.687291300Z"
    }
   },
   "execution_count": 37,
   "outputs": [
    {
     "name": "stdout",
     "output_type": "stream",
     "text": [
      "a\n",
      "b\n",
      "c\n",
      "d\n"
     ]
    }
   ]
  },
  {
   "cell_type": "markdown",
   "source": [
    "# Вітаю! Ви велика(ий) молодець, що впоралась(вся). Похваліть себе та побалуйте чимось приємним. Я Вами пишаюся."
   ],
   "metadata": {
    "id": "Z3E3S_s1Fv7-"
   }
  }
 ]
}
